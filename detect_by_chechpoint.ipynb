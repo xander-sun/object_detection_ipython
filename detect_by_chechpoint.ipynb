{
 "cells": [
  {
   "cell_type": "code",
   "execution_count": 1,
   "metadata": {},
   "outputs": [],
   "source": [
    "import numpy as np\n",
    "import os\n",
    "import sys\n",
    "import tensorflow as tf\n",
    "\n",
    "# This is needed since the notebook is stored in the object_detection folder.\n",
    "sys.path.append(\"/home/xs/tensorflow_test/sycu-tensorflow-train/research/object_detection\")\n",
    "from object_detection.utils import ops as utils_opsjiqi\n",
    "\n",
    "from utils import label_map_util\n",
    "from utils import visualization_utils as vis_util"
   ]
  },
  {
   "cell_type": "code",
   "execution_count": 2,
   "metadata": {},
   "outputs": [],
   "source": [
    "model_file_path = \"./ssd_mobilenet_v1_sycu_20210328/saved_model\"\n",
    "label_map_path = \"./ssd_mobilenet_v1_sycu_20210328/sycu_label_map.pbtxt\"\n",
    "NUM_CLASSES = 4\n",
    "label_map = label_map_util.load_labelmap(label_map_path)\n",
    "categories = label_map_util.convert_label_map_to_categories(label_map, max_num_classes=NUM_CLASSES, use_display_name=True)\n",
    "category_index = label_map_util.create_category_index(categories)"
   ]
  },
  {
   "cell_type": "code",
   "execution_count": 3,
   "metadata": {},
   "outputs": [],
   "source": [
    "import cv2\n",
    "import time\n",
    "frame = cv2.imread('./ball.png')"
   ]
  },
  {
   "cell_type": "code",
   "execution_count": 4,
   "metadata": {},
   "outputs": [
    {
     "name": "stdout",
     "output_type": "stream",
     "text": [
      "INFO:tensorflow:Restoring parameters from ./ssd_mobilenet_v1_sycu_20210328/model.ckpt\n"
     ]
    }
   ],
   "source": [
    "with tf.Session() as sess:\n",
    "    \n",
    "    saver=tf.train.import_meta_graph('./ssd_mobilenet_v1_sycu_20210328/model.ckpt.meta')\n",
    "    saver.restore(sess,tf.train.latest_checkpoint('./ssd_mobilenet_v1_sycu_20210328/'))\n",
    "    #saver.restore(sess=sess, save_path=args.save_path)  # 读取保存的模型\n",
    "    detect_graph = tf.get_default_graph()\n",
    "    # 打印查看签名signature的内容\n",
    "    #print(detect_graph.signature_def)\n",
    "    image_np_expanded = np.expand_dims(frame, axis=0)\n",
    "\n",
    "    image_tensor = detect_graph.get_tensor_by_name('image_tensor:0')\n",
    "\n",
    "    boxes = detect_graph.get_tensor_by_name('detection_boxes:0')\n",
    "            # Each score represent how level of confidence for each of the objects.\n",
    "            # Score is shown on the result image, together with the class label.\n",
    "    scores = detect_graph.get_tensor_by_name('detection_scores:0')\n",
    "    classes = detect_graph.get_tensor_by_name('detection_classes:0')\n",
    "    num_detections = detect_graph.get_tensor_by_name('num_detections:0')\n",
    "    (num_detections,boxes, scores, classes) = sess.run(\n",
    "                [num_detections, boxes, scores, classes],\n",
    "                feed_dict={image_tensor: image_np_expanded})\n",
    "    #print(boxes[:5], scores[:5], classes[:5])\n",
    "    vis_util.visualize_boxes_and_labels_on_image_array(\n",
    "                frame, np.squeeze(boxes),\n",
    "                np.squeeze(classes).astype(np.int32),\n",
    "                np.squeeze(scores), category_index,\n",
    "                use_normalized_coordinates=True,\n",
    "                line_thickness=8)\n",
    " \n",
    "    cv2.imshow('object detection', frame)\n",
    "    k = cv2.waitKey(0)\n",
    "    if k == ord('q'):\n",
    "        cv2.destroyAllWindows()\n",
    "\n",
    "    "
   ]
  }
 ],
 "metadata": {
  "kernelspec": {
   "display_name": "Python 3",
   "language": "python",
   "name": "python3"
  },
  "language_info": {
   "codemirror_mode": {
    "name": "ipython",
    "version": 3
   },
   "file_extension": ".py",
   "mimetype": "text/x-python",
   "name": "python",
   "nbconvert_exporter": "python",
   "pygments_lexer": "ipython3",
   "version": "3.6.9"
  }
 },
 "nbformat": 4,
 "nbformat_minor": 2
}
