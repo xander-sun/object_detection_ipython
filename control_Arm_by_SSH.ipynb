{
 "cells": [
  {
   "cell_type": "code",
   "execution_count": 1,
   "metadata": {},
   "outputs": [],
   "source": [
    "import paramiko"
   ]
  },
  {
   "cell_type": "code",
   "execution_count": 2,
   "metadata": {},
   "outputs": [],
   "source": [
    "#创建SSH对象\n",
    "ssh = paramiko.SSHClient()\n",
    "\n",
    "#把要连接的机器添加到known_hosts文件中\n",
    "ssh.set_missing_host_key_policy(paramiko.AutoAddPolicy())\n",
    "\n",
    "#连接服务器\n",
    "ssh.connect(hostname='192.168.1.179', port=22, username='pi', password=' ')"
   ]
  },
  {
   "cell_type": "code",
   "execution_count": 3,
   "metadata": {},
   "outputs": [
    {
     "name": "stdout",
     "output_type": "stream",
     "text": [
      "Arm_Pi\n",
      "build-raspArm-unknown-Debug\n",
      "build-raspArm-unknown-Release\n",
      "connect\n",
      "create_ap\n",
      "Desktop\n",
      "Documents\n",
      "Downloads\n",
      "learm.ini\n",
      "MagPi\n",
      "mjpg-streamer\n",
      "Music\n",
      "oldconffiles\n",
      "Pictures\n",
      "Public\n",
      "python_games\n",
      "raspArm\n",
      "reset.sh\n",
      "Templates\n",
      "Videos\n",
      "\n"
     ]
    }
   ],
   "source": [
    "cmd = 'cd Desktop;ls'\n",
    "#cmd = 'sudo supervisorctl restart learm:learm_0' ###\n",
    "\n",
    "stdin, stdout, stderr = ssh.exec_command(cmd)\n",
    "\n",
    "result = stdout.read()\n",
    "\n",
    "if not result:\n",
    "    result = stderr.read()\n",
    "ssh.close()\n",
    "\n",
    "print(result.decode())"
   ]
  }
 ],
 "metadata": {
  "kernelspec": {
   "display_name": "Python 3",
   "language": "python",
   "name": "python3"
  },
  "language_info": {
   "codemirror_mode": {
    "name": "ipython",
    "version": 3
   },
   "file_extension": ".py",
   "mimetype": "text/x-python",
   "name": "python",
   "nbconvert_exporter": "python",
   "pygments_lexer": "ipython3",
   "version": "3.6.9"
  }
 },
 "nbformat": 4,
 "nbformat_minor": 4
}
