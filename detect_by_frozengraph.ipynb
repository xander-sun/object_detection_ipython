{
 "cells": [
  {
   "cell_type": "code",
   "execution_count": 1,
   "metadata": {},
   "outputs": [],
   "source": [
    "import numpy as np\n",
    "import os\n",
    "import sys\n",
    "import tensorflow as tf\n",
    "os.environ['CUDA_VISIBLE_DEVICES'] = '/gpu:0'\n",
    "# This is needed since the notebook is stored in the object_detection folder.\n",
    "sys.path.append(\"/home/xs/tensorflow_test/sycu-tensorflow-train/research/object_detection\")\n",
    "from object_detection.utils import ops as utils_opsjiqi\n",
    "\n",
    "from utils import label_map_util\n",
    "from utils import visualization_utils as vis_util"
   ]
  },
  {
   "cell_type": "code",
   "execution_count": 2,
   "metadata": {},
   "outputs": [],
   "source": [
    "model_file_path = \"./ssd_mobilenet_v1_sycu_20210328/frozen_inference_graph.pb\"\n",
    "label_map_path = \"./ssd_mobilenet_v1_sycu_20210328/sycu_label_map.pbtxt\"\n",
    "NUM_CLASSES = 4\n",
    "label_map = label_map_util.load_labelmap(label_map_path)\n",
    "categories = label_map_util.convert_label_map_to_categories(label_map, max_num_classes=NUM_CLASSES, use_display_name=True)\n",
    "category_index = label_map_util.create_category_index(categories)"
   ]
  },
  {
   "cell_type": "code",
   "execution_count": 3,
   "metadata": {},
   "outputs": [],
   "source": [
    "import cv2\n",
    "import time\n",
    "frame = cv2.imread('./ball.png')"
   ]
  },
  {
   "cell_type": "code",
   "execution_count": 4,
   "metadata": {},
   "outputs": [],
   "source": [
    "def load_graph(frozen_graph_filename):\n",
    "    # We load the protobuf file from the disk and parse it to retrieve the \n",
    "    # unserialized graph_def\n",
    "    with tf.gfile.GFile(frozen_graph_filename, \"rb\") as f:\n",
    "        graph_def = tf.GraphDef()\n",
    "        #graph_def = tf.compat.v1.GraphDef()\n",
    "        graph_def.ParseFromString(f.read())\n",
    " \n",
    "    # Then, we import the graph_def into a new Graph and returns it \n",
    "    with tf.Graph().as_default() as graph:\n",
    "        # The name var will prefix every op/nodes in your graph\n",
    "        # Since we load everything in a new graph, this is not needed\n",
    "        tf.import_graph_def(graph_def, name=\"\")\n",
    "    return graph\n"
   ]
  },
  {
   "cell_type": "code",
   "execution_count": 5,
   "metadata": {},
   "outputs": [
    {
     "name": "stdout",
     "output_type": "stream",
     "text": [
      "<tensorflow.python.framework.ops.Graph object at 0x7f8196a50c18>\n"
     ]
    }
   ],
   "source": [
    "detect_graph = load_graph(model_file_path)\n",
    "print(detect_graph)"
   ]
  },
  {
   "cell_type": "code",
   "execution_count": 6,
   "metadata": {
    "scrolled": false
   },
   "outputs": [],
   "source": [
    "detect_graph = load_graph(model_file_path)\n",
    "\n",
    "with tf.Session(graph=detect_graph) as sess:\n",
    "    image_np_expanded = np.expand_dims(frame, axis=0)\n",
    "    image_tensor = detect_graph.get_tensor_by_name('image_tensor:0')\n",
    "\n",
    "    boxes = detect_graph.get_tensor_by_name('detection_boxes:0')\n",
    "    scores = detect_graph.get_tensor_by_name('detection_scores:0')\n",
    "    classes = detect_graph.get_tensor_by_name('detection_classes:0')\n",
    "    num_detections = detect_graph.get_tensor_by_name('num_detections:0')\n",
    "    \n",
    "    (num_detections,boxes, scores, classes) = sess.run(\n",
    "                [num_detections, boxes, scores, classes],\n",
    "                feed_dict={image_tensor: image_np_expanded})\n",
    "    \n",
    "    vis_util.visualize_boxes_and_labels_on_image_array(\n",
    "                frame, np.squeeze(boxes),\n",
    "                np.squeeze(classes).astype(np.int32),\n",
    "                np.squeeze(scores), category_index,\n",
    "                use_normalized_coordinates=True,\n",
    "                line_thickness=8)\n",
    " \n",
    "    cv2.imshow('object detection', frame)\n",
    "    k = cv2.waitKey(0)\n",
    "    if k == ord('q'):\n",
    "        cv2.destroyAllWindows()"
   ]
  },
  {
   "cell_type": "code",
   "execution_count": null,
   "metadata": {},
   "outputs": [],
   "source": []
  }
 ],
 "metadata": {
  "kernelspec": {
   "display_name": "Python 3",
   "language": "python",
   "name": "python3"
  },
  "language_info": {
   "codemirror_mode": {
    "name": "ipython",
    "version": 3
   },
   "file_extension": ".py",
   "mimetype": "text/x-python",
   "name": "python",
   "nbconvert_exporter": "python",
   "pygments_lexer": "ipython3",
   "version": "3.6.9"
  }
 },
 "nbformat": 4,
 "nbformat_minor": 2
}
